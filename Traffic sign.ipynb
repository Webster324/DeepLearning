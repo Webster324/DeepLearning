{
 "cells": [
  {
   "cell_type": "code",
   "execution_count": 9,
   "id": "1f88e628-1b1e-4c16-a959-82974263f647",
   "metadata": {},
   "outputs": [
    {
     "name": "stdout",
     "output_type": "stream",
     "text": [
      "cuda\n"
     ]
    }
   ],
   "source": [
    "import os\n",
    "import numpy as np\n",
    "import torchvision.models as models\n",
    "from PIL import Image\n",
    "import matplotlib.pyplot as plt\n",
    "import torch\n",
    "import torchvision\n",
    "import torchinfo\n",
    "import torch.nn as nn\n",
    "import torch.nn.functional as F\n",
    "import torch.optim as optim\n",
    "from torch.utils.data import DataLoader\n",
    "import torchvision.transforms as transforms\n",
    "from torchvision.io import read_image\n",
    "from torchvision.transforms import functional as TVF\n",
    "from torchvision.datasets import ImageFolder\n",
    "from torch.utils.data import random_split\n",
    "from tqdm import tqdm\n",
    "from torchinfo import summary\n",
    "from torch.utils.data import ConcatDataset\n",
    "from sklearn.metrics import precision_score, recall_score, f1_score\n",
    "\n",
    "device = torch.device(\"cuda\") if torch.cuda.is_available() else torch.device(\"cpu\")\n",
    "data_dir = \"GTSRB\"\n",
    "print(device)"
   ]
  },
  {
   "cell_type": "markdown",
   "id": "60e18a42-52e7-4bd2-8725-fa417f7f7f40",
   "metadata": {},
   "source": [
    "############################\n",
    "- Coded by Webster Wang Wei Yang\n",
    "############################"
   ]
  },
  {
   "cell_type": "code",
   "execution_count": 5,
   "id": "d741dcab-4235-4e4b-995c-80242eb14a85",
   "metadata": {},
   "outputs": [],
   "source": [
    "import os\n",
    "import csv\n",
    "from PIL import Image\n",
    "from torch.utils.data import Dataset\n",
    "from typing import Tuple\n",
    "import pathlib\n",
    "\n",
    "class GTSRB(Dataset):\n",
    "    def __init__(self, root: str, split: str, transform=None):\n",
    "        self.base_folder = pathlib.Path(root)\n",
    "        self.csv_file = self.base_folder / ('Train.csv' if split == 'train' else 'Test.csv')\n",
    "        \n",
    "        self.samples = []\n",
    "        with open(self.csv_file) as csvfile:\n",
    "            reader = csv.DictReader(csvfile, delimiter=',', skipinitialspace=True)\n",
    "            self.samples = [(str(self.base_folder / row['Path']), int(row['ClassId'])) for row in reader]\n",
    "        \n",
    "        self.split = split\n",
    "        self.transform = transform\n",
    "        self.classes = sorted(set([class_id for _, class_id in self.samples]))\n",
    "\n",
    "    def __len__(self):\n",
    "        return len(self.samples)\n",
    "\n",
    "    def __getitem__(self, i):\n",
    "        path, classId = self.samples[i]\n",
    "        sample = Image.open(path).convert('RGB')\n",
    "\n",
    "        if self.transform is not None:\n",
    "            sample = self.transform(sample)\n",
    "\n",
    "        return sample, classId\n"
   ]
  },
  {
   "cell_type": "markdown",
   "id": "1b261269-9909-4a7f-b355-d33e612d521f",
   "metadata": {},
   "source": [
    "############################\n",
    "- Coded by Wong Wai Chun\n",
    "############################"
   ]
  },
  {
   "cell_type": "code",
   "execution_count": 7,
   "id": "245852bc-86d7-4daa-9524-1ae213ed9ac7",
   "metadata": {},
   "outputs": [
    {
     "name": "stdout",
     "output_type": "stream",
     "text": [
      "training size : 31367, Validation size : 7842\n",
      "Number of classes: 43\n"
     ]
    }
   ],
   "source": [
    "train_transforms = transforms.Compose([\n",
    "    transforms.RandomHorizontalFlip(p=0.3), \n",
    "    transforms.RandomVerticalFlip(p=0.3),   \n",
    "    transforms.RandomRotation(degrees=30),  \n",
    "    transforms.ColorJitter(brightness=1.0, contrast=0.5, saturation=1, hue=0.1), \n",
    "    transforms.Resize((50, 50)),  \n",
    "    transforms.ToTensor(), \n",
    "])\n",
    "\n",
    "dataset = GTSRB(root = data_dir, split = \"train\", transform = train_transforms)\n",
    "train_size = int(0.8 * len(dataset))\n",
    "val_size = len(dataset) - train_size\n",
    "train_set, validation_set = random_split(dataset, [train_size, val_size])\n",
    "\n",
    "print(f'training size : {len(train_set)}, Validation size : {len(validation_set)}')\n",
    "\n",
    "train_loader = DataLoader(train_set, batch_size=64, shuffle=True)\n",
    "val_loader = DataLoader(validation_set, batch_size=64, shuffle=False)\n",
    "\n",
    "test_transform = transforms.Compose([\n",
    "    transforms.Resize((50, 50)),\n",
    "    transforms.ToTensor(),\n",
    "])\n",
    "\n",
    "testset = GTSRB(root=data_dir,split=\"test\", transform = test_transform)\n",
    "print('testing size :',len(testset))\n",
    "test_loader = DataLoader(testset,batch_size=32, shuffle=False)\n",
    "\n",
    "num_classes = len(dataset.classes)\n",
    "print(f'Number of classes: {num_classes}')\n"
   ]
  },
  {
   "cell_type": "markdown",
   "id": "2bd50f72-6428-4ab0-8a7a-82b0d6e71f45",
   "metadata": {},
   "source": [
    "############################\n",
    "- Coded by Webster Wang Wei Yang\n",
    "############################"
   ]
  },
  {
   "cell_type": "code",
   "execution_count": 4,
   "id": "72ea5939-6886-4df9-b91d-e546a89e9b4c",
   "metadata": {},
   "outputs": [],
   "source": [
    "def plot_training_results(train_losses, val_losses, train_accuracies, val_accuracies):\n",
    "    epochs = range(1, len(train_losses) + 1)\n",
    "\n",
    "    plt.figure(figsize=(14, 6))\n",
    "\n",
    "    plt.subplot(1, 2, 1)\n",
    "    plt.plot(epochs, train_losses, label='Training Loss')\n",
    "    plt.plot(epochs, val_losses, label='Validation Loss')\n",
    "    plt.xlabel('Epochs')\n",
    "    plt.ylabel('Loss')\n",
    "    plt.title('Training and Validation Loss')\n",
    "    plt.legend()\n",
    "\n",
    "    plt.subplot(1, 2, 2)\n",
    "    plt.plot(epochs, train_accuracies, label='Training Accuracy')\n",
    "    plt.plot(epochs, val_accuracies, label='Validation Accuracy')\n",
    "    plt.xlabel('Epochs')\n",
    "    plt.ylabel('Accuracy')\n",
    "    plt.title('Training and Validation Accuracy')\n",
    "    plt.legend()\n",
    "\n",
    "    plt.show()\n"
   ]
  },
  {
   "cell_type": "markdown",
   "id": "18b2dbbf-b8f4-4738-89ce-d253e7e81fce",
   "metadata": {},
   "source": [
    "############################\n",
    "- Adapted from Practical\n",
    "############################"
   ]
  },
  {
   "cell_type": "code",
   "execution_count": 16,
   "id": "b333df6d-1e31-4b1b-b474-97fed9f2d10a",
   "metadata": {},
   "outputs": [],
   "source": [
    "def train(net, trainloader, valloader, device, num_epochs, lr=0.01, weight_decay = 0.8, step_size = 5, gamma = 0.1):\n",
    "    train_losses = []\n",
    "    val_losses = []\n",
    "    train_accuracies = []\n",
    "    val_accuracies = []\n",
    "\n",
    "    net = net.to(device)\n",
    "\n",
    "    optimizer = optim.Adam(net.parameters(), lr=lr, weight_decay=weight_decay)\n",
    "    scheduler = optim.lr_scheduler.StepLR(optimizer, step_size=step_size, gamma=gamma)\n",
    "    criterion = nn.CrossEntropyLoss()\n",
    "\n",
    "    for epoch in range(num_epochs):\n",
    "        running_loss = 0\n",
    "        running_corrects = 0\n",
    "        total_samples = 0\n",
    "\n",
    "        net.train() \n",
    "        for inputs, labels in trainloader:\n",
    "            optimizer.zero_grad()\n",
    "\n",
    "            inputs = inputs.to(device)\n",
    "            labels = labels.to(device)\n",
    "\n",
    "            outputs = net(inputs)\n",
    "\n",
    "            loss = criterion(outputs, labels)\n",
    "\n",
    "            loss.backward()\n",
    "\n",
    "            optimizer.step()\n",
    "\n",
    "            running_loss += loss.item() * inputs.size(0)\n",
    "\n",
    "            _, preds = torch.max(outputs, 1)\n",
    "            running_corrects += torch.sum(preds == labels)\n",
    "            total_samples += inputs.size(0)\n",
    "\n",
    "        train_loss = running_loss / total_samples\n",
    "        train_acc = running_corrects.float() / total_samples\n",
    "        train_losses.append(train_loss)\n",
    "        train_accuracies.append(train_acc.cpu().numpy())\n",
    "\n",
    "        net.eval()  \n",
    "        val_loss = 0\n",
    "        val_corrects = 0\n",
    "        val_samples = 0\n",
    "\n",
    "        with torch.no_grad(): \n",
    "            for inputs, labels in valloader:\n",
    "                inputs = inputs.to(device)\n",
    "                labels = labels.to(device)\n",
    "\n",
    "                outputs = net(inputs)\n",
    "                loss = criterion(outputs, labels)\n",
    "                \n",
    "\n",
    "                val_loss += loss.item() * inputs.size(0)\n",
    "\n",
    "                _, preds = torch.max(outputs, 1)\n",
    "                val_corrects += torch.sum(preds == labels)\n",
    "                val_samples += inputs.size(0)\n",
    "\n",
    "        val_loss /= val_samples\n",
    "        val_acc = val_corrects.double() / val_samples\n",
    "        val_losses.append(val_loss)\n",
    "        val_accuracies.append(val_acc.cpu().numpy())\n",
    "\n",
    "        print(f'[Epoch {epoch+1:2d}]: train_loss = {train_loss:.4f}, train_acc = {train_acc:.4f}, '\n",
    "              f'validation_loss = {val_loss:.4f}, validation_acc = {val_acc:.4f}')\n",
    "\n",
    "        scheduler.step() \n",
    "\n",
    "    print(\"Training completed.\")\n",
    "    return train_losses, val_losses, train_accuracies, val_accuracies"
   ]
  },
  {
   "cell_type": "markdown",
   "id": "395de76f-1798-4df3-b5cf-c3135e3b0879",
   "metadata": {},
   "source": [
    "############################\n",
    "- Coded by Wong Wai Chun\n",
    "############################"
   ]
  },
  {
   "cell_type": "code",
   "execution_count": 17,
   "id": "7c207f98-0335-4f43-a718-acefc3f0ffc2",
   "metadata": {},
   "outputs": [
    {
     "data": {
      "text/plain": [
       "==========================================================================================\n",
       "Layer (type:depth-idx)                   Output Shape              Param #\n",
       "==========================================================================================\n",
       "CNN                                      [64, 43]                  --\n",
       "├─Conv2d: 1-1                            [64, 32, 50, 50]          896\n",
       "├─Conv2d: 1-2                            [64, 64, 50, 50]          18,496\n",
       "├─BatchNorm2d: 1-3                       [64, 64, 50, 50]          128\n",
       "├─MaxPool2d: 1-4                         [64, 64, 25, 25]          --\n",
       "├─Conv2d: 1-5                            [64, 128, 25, 25]         73,856\n",
       "├─Conv2d: 1-6                            [64, 256, 25, 25]         295,168\n",
       "├─BatchNorm2d: 1-7                       [64, 256, 25, 25]         512\n",
       "├─MaxPool2d: 1-8                         [64, 256, 12, 12]         --\n",
       "├─Conv2d: 1-9                            [64, 512, 10, 10]         1,180,160\n",
       "├─Conv2d: 1-10                           [64, 1024, 8, 8]          4,719,616\n",
       "├─BatchNorm2d: 1-11                      [64, 1024, 8, 8]          2,048\n",
       "├─MaxPool2d: 1-12                        [64, 1024, 4, 4]          --\n",
       "├─AdaptiveAvgPool2d: 1-13                [64, 1024, 1, 1]          --\n",
       "├─Linear: 1-14                           [64, 512]                 524,800\n",
       "├─Dropout: 1-15                          [64, 512]                 --\n",
       "├─Linear: 1-16                           [64, 128]                 65,664\n",
       "├─Dropout: 1-17                          [64, 128]                 --\n",
       "├─Linear: 1-18                           [64, 43]                  5,547\n",
       "==========================================================================================\n",
       "Total params: 6,886,891\n",
       "Trainable params: 6,886,891\n",
       "Non-trainable params: 0\n",
       "Total mult-adds (Units.GIGABYTES): 44.79\n",
       "==========================================================================================\n",
       "Input size (MB): 1.92\n",
       "Forward/backward pass size (MB): 503.27\n",
       "Params size (MB): 27.55\n",
       "Estimated Total Size (MB): 532.74\n",
       "=========================================================================================="
      ]
     },
     "execution_count": 17,
     "metadata": {},
     "output_type": "execute_result"
    }
   ],
   "source": [
    "class CNN(nn.Module):\n",
    "    def __init__(self):\n",
    "        super().__init__()\n",
    "        \n",
    "        self.dropout1 = nn.Dropout(0.3)\n",
    "        self.dropout2 = nn.Dropout(0.4)\n",
    "        self.dropout3 = nn.Dropout(0.5)\n",
    "\n",
    "        self.relu = nn.ReLU()\n",
    "        self.maxpool = nn.MaxPool2d(2)\n",
    "        self.global_avg_pool = nn.AdaptiveAvgPool2d(1) \n",
    "\n",
    "        self.conv1 = nn.Conv2d(in_channels=3, out_channels=32, kernel_size=3, padding=1)\n",
    "        self.conv2 = nn.Conv2d(32, 64, kernel_size=3, padding=1)\n",
    "        self.batchnorm1 = nn.BatchNorm2d(64)\n",
    "\n",
    "        self.conv3 = nn.Conv2d(64, 128, kernel_size=3, padding=1)\n",
    "        self.conv4 = nn.Conv2d(128, 256, kernel_size=3, padding=1)\n",
    "        self.batchnorm2 = nn.BatchNorm2d(256)\n",
    "\n",
    "        self.conv5 = nn.Conv2d(256, 512, kernel_size=3)\n",
    "        self.conv6 = nn.Conv2d(512, 1024, kernel_size=3)\n",
    "        self.batchnorm3 = nn.BatchNorm2d(1024)\n",
    "\n",
    "        self.fc1 = nn.Linear(1024, 512)\n",
    "        self.fc2 = nn.Linear(512, 128)\n",
    "        self.fc3 = nn.Linear(128, 43)  \n",
    "        \n",
    "    def forward(self, x):\n",
    "        x = F.relu(self.conv1(x))\n",
    "        x = F.relu(self.conv2(x))\n",
    "        x = self.batchnorm1(x)\n",
    "        x = self.maxpool(x)\n",
    "\n",
    "        x = F.relu(self.conv3(x))\n",
    "        x = F.relu(self.conv4(x))\n",
    "        x = self.batchnorm2(x)\n",
    "        x = self.maxpool(x)\n",
    "\n",
    "        x = F.relu(self.conv5(x))\n",
    "        x = F.relu(self.conv6(x))\n",
    "        x = self.batchnorm3(x)\n",
    "        x = self.maxpool(x)\n",
    "\n",
    "        x = self.global_avg_pool(x)\n",
    "        x = x.view(x.size(0), -1)  \n",
    "\n",
    "        x = F.relu(self.fc1(x))\n",
    "        x = self.dropout2(x)\n",
    "        x = F.relu(self.fc2(x))\n",
    "        x = self.dropout3(x)\n",
    "        x = self.fc3(x)\n",
    "        \n",
    "        return x\n",
    "\n",
    "net = CNN()\n",
    "summary(net, input_size=(64, 3, 50, 50))\n"
   ]
  },
  {
   "cell_type": "code",
   "execution_count": 18,
   "id": "18df2061-d9e4-4488-9bdc-8217c13f520c",
   "metadata": {},
   "outputs": [
    {
     "ename": "KeyboardInterrupt",
     "evalue": "",
     "output_type": "error",
     "traceback": [
      "\u001b[1;31m---------------------------------------------------------------------------\u001b[0m",
      "\u001b[1;31mKeyboardInterrupt\u001b[0m                         Traceback (most recent call last)",
      "Cell \u001b[1;32mIn[18], line 1\u001b[0m\n\u001b[1;32m----> 1\u001b[0m train_losses, val_losses, train_accuracies, val_accuracies \u001b[38;5;241m=\u001b[39m train(\n\u001b[0;32m      2\u001b[0m     net, train_loader, val_loader, device, num_epochs \u001b[38;5;241m=\u001b[39m \u001b[38;5;241m20\u001b[39m, lr \u001b[38;5;241m=\u001b[39m \u001b[38;5;241m0.0001\u001b[39m, weight_decay \u001b[38;5;241m=\u001b[39m \u001b[38;5;241m1e-4\u001b[39m,step_size \u001b[38;5;241m=\u001b[39m \u001b[38;5;241m10\u001b[39m, gamma \u001b[38;5;241m=\u001b[39m \u001b[38;5;241m0.8\u001b[39m)\n",
      "Cell \u001b[1;32mIn[16], line 19\u001b[0m, in \u001b[0;36mtrain\u001b[1;34m(net, trainloader, valloader, device, num_epochs, lr, weight_decay, step_size, gamma)\u001b[0m\n\u001b[0;32m     16\u001b[0m total_samples \u001b[38;5;241m=\u001b[39m \u001b[38;5;241m0\u001b[39m\n\u001b[0;32m     18\u001b[0m net\u001b[38;5;241m.\u001b[39mtrain() \n\u001b[1;32m---> 19\u001b[0m \u001b[38;5;28;01mfor\u001b[39;00m inputs, labels \u001b[38;5;129;01min\u001b[39;00m trainloader:\n\u001b[0;32m     20\u001b[0m     optimizer\u001b[38;5;241m.\u001b[39mzero_grad()\n\u001b[0;32m     22\u001b[0m     inputs \u001b[38;5;241m=\u001b[39m inputs\u001b[38;5;241m.\u001b[39mto(device)\n",
      "File \u001b[1;32m~\\anaconda3\\Lib\\site-packages\\torch\\utils\\data\\dataloader.py:631\u001b[0m, in \u001b[0;36m_BaseDataLoaderIter.__next__\u001b[1;34m(self)\u001b[0m\n\u001b[0;32m    628\u001b[0m \u001b[38;5;28;01mif\u001b[39;00m \u001b[38;5;28mself\u001b[39m\u001b[38;5;241m.\u001b[39m_sampler_iter \u001b[38;5;129;01mis\u001b[39;00m \u001b[38;5;28;01mNone\u001b[39;00m:\n\u001b[0;32m    629\u001b[0m     \u001b[38;5;66;03m# TODO(https://github.com/pytorch/pytorch/issues/76750)\u001b[39;00m\n\u001b[0;32m    630\u001b[0m     \u001b[38;5;28mself\u001b[39m\u001b[38;5;241m.\u001b[39m_reset()  \u001b[38;5;66;03m# type: ignore[call-arg]\u001b[39;00m\n\u001b[1;32m--> 631\u001b[0m data \u001b[38;5;241m=\u001b[39m \u001b[38;5;28mself\u001b[39m\u001b[38;5;241m.\u001b[39m_next_data()\n\u001b[0;32m    632\u001b[0m \u001b[38;5;28mself\u001b[39m\u001b[38;5;241m.\u001b[39m_num_yielded \u001b[38;5;241m+\u001b[39m\u001b[38;5;241m=\u001b[39m \u001b[38;5;241m1\u001b[39m\n\u001b[0;32m    633\u001b[0m \u001b[38;5;28;01mif\u001b[39;00m \u001b[38;5;28mself\u001b[39m\u001b[38;5;241m.\u001b[39m_dataset_kind \u001b[38;5;241m==\u001b[39m _DatasetKind\u001b[38;5;241m.\u001b[39mIterable \u001b[38;5;129;01mand\u001b[39;00m \\\n\u001b[0;32m    634\u001b[0m         \u001b[38;5;28mself\u001b[39m\u001b[38;5;241m.\u001b[39m_IterableDataset_len_called \u001b[38;5;129;01mis\u001b[39;00m \u001b[38;5;129;01mnot\u001b[39;00m \u001b[38;5;28;01mNone\u001b[39;00m \u001b[38;5;129;01mand\u001b[39;00m \\\n\u001b[0;32m    635\u001b[0m         \u001b[38;5;28mself\u001b[39m\u001b[38;5;241m.\u001b[39m_num_yielded \u001b[38;5;241m>\u001b[39m \u001b[38;5;28mself\u001b[39m\u001b[38;5;241m.\u001b[39m_IterableDataset_len_called:\n",
      "File \u001b[1;32m~\\anaconda3\\Lib\\site-packages\\torch\\utils\\data\\dataloader.py:675\u001b[0m, in \u001b[0;36m_SingleProcessDataLoaderIter._next_data\u001b[1;34m(self)\u001b[0m\n\u001b[0;32m    673\u001b[0m \u001b[38;5;28;01mdef\u001b[39;00m \u001b[38;5;21m_next_data\u001b[39m(\u001b[38;5;28mself\u001b[39m):\n\u001b[0;32m    674\u001b[0m     index \u001b[38;5;241m=\u001b[39m \u001b[38;5;28mself\u001b[39m\u001b[38;5;241m.\u001b[39m_next_index()  \u001b[38;5;66;03m# may raise StopIteration\u001b[39;00m\n\u001b[1;32m--> 675\u001b[0m     data \u001b[38;5;241m=\u001b[39m \u001b[38;5;28mself\u001b[39m\u001b[38;5;241m.\u001b[39m_dataset_fetcher\u001b[38;5;241m.\u001b[39mfetch(index)  \u001b[38;5;66;03m# may raise StopIteration\u001b[39;00m\n\u001b[0;32m    676\u001b[0m     \u001b[38;5;28;01mif\u001b[39;00m \u001b[38;5;28mself\u001b[39m\u001b[38;5;241m.\u001b[39m_pin_memory:\n\u001b[0;32m    677\u001b[0m         data \u001b[38;5;241m=\u001b[39m _utils\u001b[38;5;241m.\u001b[39mpin_memory\u001b[38;5;241m.\u001b[39mpin_memory(data, \u001b[38;5;28mself\u001b[39m\u001b[38;5;241m.\u001b[39m_pin_memory_device)\n",
      "File \u001b[1;32m~\\anaconda3\\Lib\\site-packages\\torch\\utils\\data\\_utils\\fetch.py:49\u001b[0m, in \u001b[0;36m_MapDatasetFetcher.fetch\u001b[1;34m(self, possibly_batched_index)\u001b[0m\n\u001b[0;32m     47\u001b[0m \u001b[38;5;28;01mif\u001b[39;00m \u001b[38;5;28mself\u001b[39m\u001b[38;5;241m.\u001b[39mauto_collation:\n\u001b[0;32m     48\u001b[0m     \u001b[38;5;28;01mif\u001b[39;00m \u001b[38;5;28mhasattr\u001b[39m(\u001b[38;5;28mself\u001b[39m\u001b[38;5;241m.\u001b[39mdataset, \u001b[38;5;124m\"\u001b[39m\u001b[38;5;124m__getitems__\u001b[39m\u001b[38;5;124m\"\u001b[39m) \u001b[38;5;129;01mand\u001b[39;00m \u001b[38;5;28mself\u001b[39m\u001b[38;5;241m.\u001b[39mdataset\u001b[38;5;241m.\u001b[39m__getitems__:\n\u001b[1;32m---> 49\u001b[0m         data \u001b[38;5;241m=\u001b[39m \u001b[38;5;28mself\u001b[39m\u001b[38;5;241m.\u001b[39mdataset\u001b[38;5;241m.\u001b[39m__getitems__(possibly_batched_index)\n\u001b[0;32m     50\u001b[0m     \u001b[38;5;28;01melse\u001b[39;00m:\n\u001b[0;32m     51\u001b[0m         data \u001b[38;5;241m=\u001b[39m [\u001b[38;5;28mself\u001b[39m\u001b[38;5;241m.\u001b[39mdataset[idx] \u001b[38;5;28;01mfor\u001b[39;00m idx \u001b[38;5;129;01min\u001b[39;00m possibly_batched_index]\n",
      "File \u001b[1;32m~\\anaconda3\\Lib\\site-packages\\torch\\utils\\data\\dataset.py:419\u001b[0m, in \u001b[0;36mSubset.__getitems__\u001b[1;34m(self, indices)\u001b[0m\n\u001b[0;32m    417\u001b[0m     \u001b[38;5;28;01mreturn\u001b[39;00m \u001b[38;5;28mself\u001b[39m\u001b[38;5;241m.\u001b[39mdataset\u001b[38;5;241m.\u001b[39m__getitems__([\u001b[38;5;28mself\u001b[39m\u001b[38;5;241m.\u001b[39mindices[idx] \u001b[38;5;28;01mfor\u001b[39;00m idx \u001b[38;5;129;01min\u001b[39;00m indices])  \u001b[38;5;66;03m# type: ignore[attr-defined]\u001b[39;00m\n\u001b[0;32m    418\u001b[0m \u001b[38;5;28;01melse\u001b[39;00m:\n\u001b[1;32m--> 419\u001b[0m     \u001b[38;5;28;01mreturn\u001b[39;00m [\u001b[38;5;28mself\u001b[39m\u001b[38;5;241m.\u001b[39mdataset[\u001b[38;5;28mself\u001b[39m\u001b[38;5;241m.\u001b[39mindices[idx]] \u001b[38;5;28;01mfor\u001b[39;00m idx \u001b[38;5;129;01min\u001b[39;00m indices]\n",
      "File \u001b[1;32m~\\anaconda3\\Lib\\site-packages\\torch\\utils\\data\\dataset.py:419\u001b[0m, in \u001b[0;36m<listcomp>\u001b[1;34m(.0)\u001b[0m\n\u001b[0;32m    417\u001b[0m     \u001b[38;5;28;01mreturn\u001b[39;00m \u001b[38;5;28mself\u001b[39m\u001b[38;5;241m.\u001b[39mdataset\u001b[38;5;241m.\u001b[39m__getitems__([\u001b[38;5;28mself\u001b[39m\u001b[38;5;241m.\u001b[39mindices[idx] \u001b[38;5;28;01mfor\u001b[39;00m idx \u001b[38;5;129;01min\u001b[39;00m indices])  \u001b[38;5;66;03m# type: ignore[attr-defined]\u001b[39;00m\n\u001b[0;32m    418\u001b[0m \u001b[38;5;28;01melse\u001b[39;00m:\n\u001b[1;32m--> 419\u001b[0m     \u001b[38;5;28;01mreturn\u001b[39;00m [\u001b[38;5;28mself\u001b[39m\u001b[38;5;241m.\u001b[39mdataset[\u001b[38;5;28mself\u001b[39m\u001b[38;5;241m.\u001b[39mindices[idx]] \u001b[38;5;28;01mfor\u001b[39;00m idx \u001b[38;5;129;01min\u001b[39;00m indices]\n",
      "Cell \u001b[1;32mIn[5], line 27\u001b[0m, in \u001b[0;36mGTSRB.__getitem__\u001b[1;34m(self, i)\u001b[0m\n\u001b[0;32m     25\u001b[0m \u001b[38;5;28;01mdef\u001b[39;00m \u001b[38;5;21m__getitem__\u001b[39m(\u001b[38;5;28mself\u001b[39m, i):\n\u001b[0;32m     26\u001b[0m     path, classId \u001b[38;5;241m=\u001b[39m \u001b[38;5;28mself\u001b[39m\u001b[38;5;241m.\u001b[39msamples[i]\n\u001b[1;32m---> 27\u001b[0m     sample \u001b[38;5;241m=\u001b[39m Image\u001b[38;5;241m.\u001b[39mopen(path)\u001b[38;5;241m.\u001b[39mconvert(\u001b[38;5;124m'\u001b[39m\u001b[38;5;124mRGB\u001b[39m\u001b[38;5;124m'\u001b[39m)\n\u001b[0;32m     29\u001b[0m     \u001b[38;5;28;01mif\u001b[39;00m \u001b[38;5;28mself\u001b[39m\u001b[38;5;241m.\u001b[39mtransform \u001b[38;5;129;01mis\u001b[39;00m \u001b[38;5;129;01mnot\u001b[39;00m \u001b[38;5;28;01mNone\u001b[39;00m:\n\u001b[0;32m     30\u001b[0m         sample \u001b[38;5;241m=\u001b[39m \u001b[38;5;28mself\u001b[39m\u001b[38;5;241m.\u001b[39mtransform(sample)\n",
      "File \u001b[1;32m~\\anaconda3\\Lib\\site-packages\\PIL\\Image.py:3247\u001b[0m, in \u001b[0;36mopen\u001b[1;34m(fp, mode, formats)\u001b[0m\n\u001b[0;32m   3244\u001b[0m     filename \u001b[38;5;241m=\u001b[39m fp\n\u001b[0;32m   3246\u001b[0m \u001b[38;5;28;01mif\u001b[39;00m filename:\n\u001b[1;32m-> 3247\u001b[0m     fp \u001b[38;5;241m=\u001b[39m builtins\u001b[38;5;241m.\u001b[39mopen(filename, \u001b[38;5;124m\"\u001b[39m\u001b[38;5;124mrb\u001b[39m\u001b[38;5;124m\"\u001b[39m)\n\u001b[0;32m   3248\u001b[0m     exclusive_fp \u001b[38;5;241m=\u001b[39m \u001b[38;5;28;01mTrue\u001b[39;00m\n\u001b[0;32m   3250\u001b[0m \u001b[38;5;28;01mtry\u001b[39;00m:\n",
      "\u001b[1;31mKeyboardInterrupt\u001b[0m: "
     ]
    }
   ],
   "source": [
    "train_losses, val_losses, train_accuracies, val_accuracies = train(\n",
    "    net, train_loader, val_loader, device, num_epochs = 20, lr = 0.0001, weight_decay = 1e-4,step_size = 10, gamma = 0.8)"
   ]
  },
  {
   "cell_type": "code",
   "execution_count": 9,
   "id": "88bf3b20-445a-4730-a887-2cc0f5641c04",
   "metadata": {},
   "outputs": [
    {
     "data": {
      "image/png": "[encoded data removed]",
      "text/plain": [
       "<Figure size 1400x600 with 2 Axes>"
      ]
     },
     "metadata": {},
     "output_type": "display_data"
    }
   ],
   "source": [
    "plot_training_results(train_losses, val_losses, train_accuracies, val_accuracies)"
   ]
  },
  {
   "cell_type": "code",
   "execution_count": 10,
   "id": "24a4ff2d-f686-4719-bef4-e888d32b7a9b",
   "metadata": {},
   "outputs": [],
   "source": [
    "torch.save(net, 'model.pth')"
   ]
  },
  {
   "cell_type": "markdown",
   "id": "566aac57-33d6-4b05-953a-b9b601420aa4",
   "metadata": {},
   "source": [
    "############################\n",
    "- Adapted from Practical\n",
    "############################"
   ]
  },
  {
   "cell_type": "code",
   "execution_count": 13,
   "id": "026c5e63-98d8-4e2f-84b0-dcde073b8343",
   "metadata": {},
   "outputs": [],
   "source": [
    "def evaluate(net, dataloader, device):\n",
    "    net.eval() \n",
    "    all_targets = []\n",
    "    all_predictions = []\n",
    "\n",
    "    with torch.no_grad(): \n",
    "        for inputs, targets in dataloader:\n",
    "            inputs = inputs.to(device)\n",
    "            targets = targets.to(device)\n",
    "\n",
    "            outputs = net(inputs)\n",
    "            _, predicted = torch.max(outputs, 1) \n",
    "            \n",
    "            all_targets.extend(targets.cpu().numpy())  \n",
    "            all_predictions.extend(predicted.cpu().numpy())\n",
    "\n",
    "    accuracy = np.mean(np.array(all_predictions) == np.array(all_targets))\n",
    "    print(f'Accuracy: {accuracy:.4f}')\n",
    "\n",
    "    precision = precision_score(all_targets, all_predictions, average='weighted')\n",
    "    recall = recall_score(all_targets, all_predictions, average='weighted')\n",
    "    f1 = f1_score(all_targets, all_predictions, average='weighted')\n",
    "\n",
    "    print(f'Precision: {precision:.4f}')\n",
    "    print(f'Recall: {recall:.4f}')\n",
    "    print(f'F1-Score: {f1:.4f}')\n",
    "\n",
    "    return accuracy, precision, recall, f1\n"
   ]
  },
  {
   "cell_type": "code",
   "execution_count": 29,
   "id": "d2d7cbc6-184f-460f-9532-7991ca664389",
   "metadata": {},
   "outputs": [
    {
     "name": "stdout",
     "output_type": "stream",
     "text": [
      "Accuracy: 0.9789\n",
      "Precision: 0.9791\n",
      "Recall: 0.9789\n",
      "F1-Score: 0.9784\n"
     ]
    }
   ],
   "source": [
    "net = torch.load('model.pth')\n",
    "accuracy, precision, recall, f1 = evaluate(net, test_loader, device)"
   ]
  },
  {
   "cell_type": "markdown",
   "id": "2625a7d5-a4f6-47bf-831b-ef4bef0c9cc1",
   "metadata": {},
   "source": [
    "############################\n",
    "- Reference: https://www.kaggle.com/code/ahmedmedoeng/traffic-sign-recognition-with-cnn-98?scriptVersionId=195046147&cellId=19\n",
    "############################"
   ]
  },
  {
   "cell_type": "code",
   "execution_count": 30,
   "id": "75c1eafe-dea6-44d2-bc09-2058b7b091fb",
   "metadata": {},
   "outputs": [],
   "source": [
    "classes = { \n",
    "    0: 'Speed limit (20km/h)',\n",
    "    1: 'Speed limit (30km/h)', \n",
    "    2: 'Speed limit (50km/h)', \n",
    "    3: 'Speed limit (60km/h)', \n",
    "    4: 'Speed limit (70km/h)', \n",
    "    5: 'Speed limit (80km/h)', \n",
    "    6: 'End of speed limit (80km/h)', \n",
    "    7: 'Speed limit (100km/h)', \n",
    "    8: 'Speed limit (120km/h)', \n",
    "    9: 'No passing', \n",
    "    10: 'No passing veh over 3.5 tons', \n",
    "    11: 'Right-of-way at intersection', \n",
    "    12: 'Priority road', \n",
    "    13: 'Yield', \n",
    "    14: 'Stop', \n",
    "    15: 'No vehicles', \n",
    "    16: 'Veh > 3.5 tons prohibited', \n",
    "    17: 'No entry', \n",
    "    18: 'General caution', \n",
    "    19: 'Dangerous curve left', \n",
    "    20: 'Dangerous curve right', \n",
    "    21: 'Double curve', \n",
    "    22: 'Bumpy road', \n",
    "    23: 'Slippery road', \n",
    "    24: 'Road narrows on the right', \n",
    "    25: 'Road work', \n",
    "    26: 'Traffic signals', \n",
    "    27: 'Pedestrians', \n",
    "    28: 'Children crossing', \n",
    "    29: 'Bicycles crossing', \n",
    "    30: 'Beware of ice/snow',\n",
    "    31: 'Wild animals crossing', \n",
    "    32: 'End speed + passing limits', \n",
    "    33: 'Turn right ahead', \n",
    "    34: 'Turn left ahead', \n",
    "    35: 'Ahead only', \n",
    "    36: 'Go straight or right', \n",
    "    37: 'Go straight or left', \n",
    "    38: 'Keep right', \n",
    "    39: 'Keep left', \n",
    "    40: 'Roundabout mandatory', \n",
    "    41: 'End of no passing', \n",
    "    42: 'End no passing veh > 3.5 tons' \n",
    "}"
   ]
  },
  {
   "cell_type": "markdown",
   "id": "93c4c842-610f-4547-b2ff-de139403509a",
   "metadata": {},
   "source": [
    "############################\n",
    "- Coded by Webster Wang Wei Yang\n",
    "############################"
   ]
  },
  {
   "cell_type": "code",
   "execution_count": 45,
   "id": "a4ff764f-bf63-4e94-a91c-eebdc1012333",
   "metadata": {},
   "outputs": [],
   "source": [
    "def predict_image(image_path, model):\n",
    "    model.eval()\n",
    "    \n",
    "    device = next(model.parameters()).device\n",
    "    \n",
    "    image = Image.open(image_path).convert('RGB')\n",
    "\n",
    "    predict_transform = transforms.Compose([\n",
    "    transforms.Resize((50, 50)),\n",
    "    transforms.ToTensor(),\n",
    "    ])\n",
    "    \n",
    "    img = predict_transform(image)\n",
    "    \n",
    "    img = img.to(device)\n",
    "    \n",
    "    xb = img.unsqueeze(0)\n",
    "    \n",
    "    with torch.no_grad():\n",
    "        yb = model(xb)\n",
    "        \n",
    "    _, preds = torch.max(yb, dim=1)\n",
    "    \n",
    "    return preds.item()"
   ]
  },
  {
   "cell_type": "markdown",
   "id": "08f40eab-1da1-4719-ae6d-77e0274e5869",
   "metadata": {},
   "source": [
    "############################\n",
    "- Coded by Webster Wang Wei Yang\n",
    "############################"
   ]
  },
  {
   "cell_type": "code",
   "execution_count": 46,
   "id": "2cfde9ec-653f-44e6-8f49-0b2031d3a20d",
   "metadata": {},
   "outputs": [
    {
     "data": {
      "image/png": "[encoded data removed]",
      "text/plain": [
       "<Figure size 640x480 with 1 Axes>"
      ]
     },
     "metadata": {},
     "output_type": "display_data"
    }
   ],
   "source": [
    "def display_image_with_prediction(image_path, model):\n",
    "    pred_class_idx = predict_image(image_path, model)\n",
    "    pred_class = classes[pred_class_idx]\n",
    "        \n",
    "    image = Image.open(image_path)\n",
    "    plt.imshow(image)\n",
    "    pred_class_idx\n",
    "    plt.title(f\"Predict label: {pred_class_idx}, Predict class: {pred_class}\")\n",
    "    plt.axis('off') \n",
    "    plt.show()\n",
    "\n",
    "image_path = \"GTSRB/Test/12493.png\" \n",
    "display_image_with_prediction(image_path, net)  "
   ]
  },
  {
   "cell_type": "code",
   "execution_count": null,
   "id": "77a57abc-e985-4a62-94ba-b9c4507413d8",
   "metadata": {},
   "outputs": [],
   "source": []
  }
 ],
 "metadata": {
  "kernelspec": {
   "display_name": "Python 3 (ipykernel)",
   "language": "python",
   "name": "python3"
  },
  "language_info": {
   "codemirror_mode": {
    "name": "ipython",
    "version": 3
   },
   "file_extension": ".py",
   "mimetype": "text/x-python",
   "name": "python",
   "nbconvert_exporter": "python",
   "pygments_lexer": "ipython3",
   "version": "3.11.7"
  }
 },
 "nbformat": 4,
 "nbformat_minor": 5
}
