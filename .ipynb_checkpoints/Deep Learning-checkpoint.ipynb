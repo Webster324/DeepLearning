{
 "cells": [
  {
   "cell_type": "code",
   "execution_count": 11,
   "id": "3b5e251d-8daa-44d3-81c8-c0e291ba2e11",
   "metadata": {
    "scrolled": true
   },
   "outputs": [
    {
     "name": "stdout",
     "output_type": "stream",
     "text": [
      "cuda\n"
     ]
    }
   ],
   "source": [
    "import os\n",
    "import numpy as np\n",
    "import torchvision.models as models\n",
    "from PIL import Image\n",
    "import matplotlib.pyplot as plt\n",
    "import torch\n",
    "import torchvision\n",
    "import torchinfo\n",
    "import torch.nn as nn\n",
    "import torch.nn.functional as F\n",
    "import torch.optim as optim\n",
    "from torch.utils.data import DataLoader\n",
    "import torchvision.transforms as transforms\n",
    "from torchvision.io import read_image\n",
    "from torchvision.transforms import functional as TVF\n",
    "from torchvision.datasets import ImageFolder\n",
    "from torch.utils.data import random_split\n",
    "from tqdm import tqdm\n",
    "from torchinfo import summary\n",
    "from torch.utils.data import ConcatDataset\n",
    "from sklearn.metrics import precision_score, recall_score, f1_score\n",
    "import random\n",
    "\n",
    "\n",
    "\n",
    "device = torch.device(\"cuda\") if torch.cuda.is_available() else torch.device(\"cpu\")\n",
    "print(device)"
   ]
  },
  {
   "cell_type": "markdown",
   "id": "8b4c95d4-0f36-4c64-a947-2f171c6c3427",
   "metadata": {},
   "source": [
    "############################\n",
    "- Coded by Wong Wai Chun\n",
    "############################"
   ]
  },
  {
   "cell_type": "code",
   "execution_count": 2,
   "id": "8b395f14-38ff-4d65-8b05-bdf62dd6d831",
   "metadata": {},
   "outputs": [
    {
     "name": "stdout",
     "output_type": "stream",
     "text": [
      "Number of classes: ['Apple', 'Banana', 'avocado', 'cherry', 'kiwi', 'mango', 'orange', 'pinenapple', 'strawberries', 'watermelon']\n",
      "Number of classes: 10\n",
      "Number of images in  trainset: 9204\n"
     ]
    }
   ],
   "source": [
    "data_dir = \"MY_data\"\n",
    "\n",
    "aug1 = transforms.Compose([\n",
    "    transforms.Resize((40, 40)),\n",
    "    transforms.RandomHorizontalFlip(),\n",
    "    transforms.ToTensor(),\n",
    "    transforms.Normalize(mean=[0.485, 0.456, 0.406], std=[0.229, 0.224, 0.225])\n",
    "])\n",
    "\n",
    "aug2 = transforms.Compose([\n",
    "    transforms.Resize((40, 40)),\n",
    "    transforms.RandomVerticalFlip(),\n",
    "    transforms.RandomRotation(15),\n",
    "    transforms.ToTensor(),\n",
    "    transforms.Normalize(mean=[0.485, 0.456, 0.406], std=[0.229, 0.224, 0.225])\n",
    "])\n",
    "\n",
    "aug3 = transforms.Compose([\n",
    "    transforms.Resize((40, 40)),\n",
    "    transforms.RandomHorizontalFlip(),\n",
    "    transforms.RandomVerticalFlip(),\n",
    "    transforms.RandomRotation(30),\n",
    "    transforms.ColorJitter(brightness=0.2, contrast=0.2, saturation=0.2, hue=0.2),\n",
    "    transforms.ToTensor(),\n",
    "    transforms.Normalize(mean=[0.485, 0.456, 0.406], std=[0.229, 0.224, 0.225])\n",
    "])\n",
    "\n",
    "original_dataset = ImageFolder(data_dir + \"/train\", transform=aug1)\n",
    "\n",
    "augmented_datasets = [\n",
    "    ImageFolder(data_dir + \"/train\", transform=aug1),\n",
    "    ImageFolder(data_dir + \"/train\", transform=aug2),\n",
    "    ImageFolder(data_dir + \"/train\", transform=aug3)\n",
    "]\n",
    "\n",
    "full_dataset = ConcatDataset([original_dataset] + augmented_datasets)\n",
    "\n",
    "train_size = int(0.8 * len(full_dataset))\n",
    "val_size = len(full_dataset) - train_size\n",
    "train_subset, val_subset = random_split(full_dataset, [train_size, val_size])\n",
    "\n",
    "train_loader = DataLoader(train_subset, batch_size=32, shuffle=True)\n",
    "val_loader = DataLoader(val_subset, batch_size=32, shuffle=False)\n",
    "\n",
    "test_transform = transforms.Compose([\n",
    "    transforms.Resize((40, 40)),\n",
    "    transforms.ToTensor(),\n",
    "    transforms.Normalize(mean=[0.485, 0.456, 0.406], std=[0.229, 0.224, 0.225])\n",
    "])\n",
    "\n",
    "testset = ImageFolder(data_dir + \"/Test\", transform=test_transform)\n",
    "test_loader = DataLoader(testset, batch_size=32, shuffle=False)\n",
    "\n",
    "class_names = original_dataset.classes\n",
    "num_classes = len(class_names)\n",
    "print(f'Number of classes: {class_names}')\n",
    "print(f'Number of classes: {num_classes}')\n",
    "print(f'Number of images in  trainset: {len(full_dataset)}')"
   ]
  },
  {
   "cell_type": "markdown",
   "id": "3c6e8f21-b161-4365-946b-ca71e105b584",
   "metadata": {},
   "source": [
    "############################\n",
    "- Coded by Webster Wang Wei Yang\n",
    "############################"
   ]
  },
  {
   "cell_type": "code",
   "execution_count": 3,
   "id": "8844226e-eec7-47a7-9b1a-dd1735f1ead3",
   "metadata": {},
   "outputs": [],
   "source": [
    "def plot_training_results(train_losses, val_losses, train_accuracies, val_accuracies):\n",
    "    epochs = range(1, len(train_losses) + 1)\n",
    "\n",
    "    plt.figure(figsize=(14, 6))\n",
    "\n",
    "    plt.subplot(1, 2, 1)\n",
    "    plt.plot(epochs, train_losses, label='Training Loss')\n",
    "    plt.plot(epochs, val_losses, label='Validation Loss')\n",
    "    plt.xlabel('Epochs')\n",
    "    plt.ylabel('Loss')\n",
    "    plt.title('Training and Validation Loss')\n",
    "    plt.legend()\n",
    "\n",
    "    plt.subplot(1, 2, 2)\n",
    "    plt.plot(epochs, train_accuracies, label='Training Accuracy')\n",
    "    plt.plot(epochs, val_accuracies, label='Validation Accuracy')\n",
    "    plt.xlabel('Epochs')\n",
    "    plt.ylabel('Accuracy')\n",
    "    plt.title('Training and Validation Accuracy')\n",
    "    plt.legend()\n",
    "\n",
    "    plt.show()\n"
   ]
  },
  {
   "cell_type": "markdown",
   "id": "bea8344b-f89b-43ce-8e5d-04c2bc6107b4",
   "metadata": {},
   "source": [
    "############################\n",
    "- Adapted from Practical_6\n",
    "############################"
   ]
  },
  {
   "cell_type": "code",
   "execution_count": 4,
   "id": "33985c00-369b-4055-8902-379bc24d2e3f",
   "metadata": {},
   "outputs": [],
   "source": [
    "def train(net, trainloader, valloader, device, num_epochs, lr=0.01, weight_decay = 0.8, step_size = 5, gamma = 0.1):\n",
    "    train_losses = []\n",
    "    val_losses = []\n",
    "    train_accuracies = []\n",
    "    val_accuracies = []\n",
    "\n",
    "    net = net.to(device)\n",
    "\n",
    "    optimizer = optim.Adam(net.parameters(), lr=lr, weight_decay=weight_decay)\n",
    "    scheduler = optim.lr_scheduler.StepLR(optimizer, step_size=step_size, gamma=gamma)\n",
    "    criterion = nn.CrossEntropyLoss()\n",
    "\n",
    "    for epoch in range(num_epochs):\n",
    "        running_loss = 0\n",
    "        running_corrects = 0\n",
    "        total_samples = 0\n",
    "\n",
    "        net.train() \n",
    "        for inputs, labels in trainloader:\n",
    "            optimizer.zero_grad()\n",
    "\n",
    "            inputs = inputs.to(device)\n",
    "            labels = labels.to(device)\n",
    "\n",
    "            outputs = net(inputs)\n",
    "\n",
    "            loss = criterion(outputs, labels)\n",
    "\n",
    "            loss.backward()\n",
    "\n",
    "            optimizer.step()\n",
    "\n",
    "            running_loss += loss.item() * inputs.size(0)\n",
    "\n",
    "            _, preds = torch.max(outputs, 1)\n",
    "            running_corrects += torch.sum(preds == labels)\n",
    "            total_samples += inputs.size(0)\n",
    "\n",
    "        train_loss = running_loss / total_samples\n",
    "        train_acc = running_corrects.float() / total_samples\n",
    "        train_losses.append(train_loss)\n",
    "        train_accuracies.append(train_acc.cpu().numpy())\n",
    "\n",
    "        net.eval()  \n",
    "        val_loss = 0\n",
    "        val_corrects = 0\n",
    "        val_samples = 0\n",
    "\n",
    "        with torch.no_grad(): \n",
    "            for inputs, labels in valloader:\n",
    "                inputs = inputs.to(device)\n",
    "                labels = labels.to(device)\n",
    "\n",
    "                outputs = net(inputs)\n",
    "                loss = criterion(outputs, labels)\n",
    "                \n",
    "\n",
    "                val_loss += loss.item() * inputs.size(0)\n",
    "\n",
    "                _, preds = torch.max(outputs, 1)\n",
    "                val_corrects += torch.sum(preds == labels)\n",
    "                val_samples += inputs.size(0)\n",
    "\n",
    "        val_loss /= val_samples\n",
    "        val_acc = val_corrects.double() / val_samples\n",
    "        val_losses.append(val_loss)\n",
    "        val_accuracies.append(val_acc.cpu().numpy())\n",
    "\n",
    "        print(f'[Epoch {epoch+1:2d}]: train_loss = {train_loss:.4f}, train_acc = {train_acc:.4f}, '\n",
    "              f'validation_loss = {val_loss:.4f}, validation_acc = {val_acc:.4f}')\n",
    "\n",
    "        scheduler.step() \n",
    "\n",
    "    print(\"Training completed.\")\n",
    "    return train_losses, val_losses, train_accuracies, val_accuracies"
   ]
  },
  {
   "cell_type": "markdown",
   "id": "0769f7a9-934f-4c28-8cd1-613131189d6d",
   "metadata": {},
   "source": [
    "############################\n",
    "- Coded by Wong Wai Chun\n",
    "############################"
   ]
  },
  {
   "cell_type": "code",
   "execution_count": 5,
   "id": "3cf7cacc-4dae-43e0-ba24-3f00caada35b",
   "metadata": {},
   "outputs": [
    {
     "data": {
      "text/plain": [
       "==========================================================================================\n",
       "Layer (type:depth-idx)                   Output Shape              Param #\n",
       "==========================================================================================\n",
       "CNN                                      [64, 10]                  --\n",
       "├─Conv2d: 1-1                            [64, 16, 40, 40]          448\n",
       "├─Conv2d: 1-2                            [64, 32, 40, 40]          4,640\n",
       "├─BatchNorm2d: 1-3                       [64, 32, 40, 40]          64\n",
       "├─MaxPool2d: 1-4                         [64, 32, 20, 20]          --\n",
       "├─Conv2d: 1-5                            [64, 64, 20, 20]          18,496\n",
       "├─Conv2d: 1-6                            [64, 128, 20, 20]         73,856\n",
       "├─BatchNorm2d: 1-7                       [64, 128, 20, 20]         256\n",
       "├─MaxPool2d: 1-8                         [64, 128, 10, 10]         --\n",
       "├─Dropout: 1-9                           [64, 128, 10, 10]         --\n",
       "├─AdaptiveAvgPool2d: 1-10                [64, 128, 1, 1]           --\n",
       "├─Linear: 1-11                           [64, 10]                  1,290\n",
       "==========================================================================================\n",
       "Total params: 99,050\n",
       "Trainable params: 99,050\n",
       "Non-trainable params: 0\n",
       "Total mult-adds (Units.GIGABYTES): 2.89\n",
       "==========================================================================================\n",
       "Input size (MB): 1.23\n",
       "Forward/backward pass size (MB): 131.08\n",
       "Params size (MB): 0.40\n",
       "Estimated Total Size (MB): 132.70\n",
       "=========================================================================================="
      ]
     },
     "execution_count": 5,
     "metadata": {},
     "output_type": "execute_result"
    }
   ],
   "source": [
    "class CNN(nn.Module):\n",
    "    def __init__(self):\n",
    "        super().__init__()\n",
    "        self.conv1 = nn.Conv2d(3, 16, kernel_size=3, stride=1, padding=1)\n",
    "        self.conv2 = nn.Conv2d(16, 32, kernel_size=3, stride=1, padding=1)\n",
    "        self.batchnorm1 = nn.BatchNorm2d(32)\n",
    "        \n",
    "        self.conv3 = nn.Conv2d(32, 64, kernel_size=3, stride=1, padding=1)\n",
    "        self.conv4 = nn.Conv2d(64, 128, kernel_size=3, stride=1, padding=1)\n",
    "        self.batchnorm2 = nn.BatchNorm2d(128)\n",
    "        \n",
    "        self.maxpool = nn.MaxPool2d(2, 2)\n",
    "        self.dropout_conv = nn.Dropout(p=0.5)  \n",
    "        \n",
    "        self.global_pool = nn.AdaptiveAvgPool2d((1,1))\n",
    "        self.fc1 = nn.Linear(128, 10)  \n",
    "        \n",
    "    def forward(self, x):\n",
    "        x = F.relu(self.conv1(x))\n",
    "        x = F.relu(self.conv2(x))\n",
    "        x = self.batchnorm1(x)\n",
    "        x = self.maxpool(x)\n",
    "        \n",
    "        x = F.relu(self.conv3(x))\n",
    "        x = F.relu(self.conv4(x))\n",
    "        x = self.batchnorm2(x)\n",
    "        x = self.maxpool(x)\n",
    "        \n",
    "        x = self.dropout_conv(x)\n",
    "        x = self.global_pool(x)\n",
    "        x = x.view(x.size(0), -1)\n",
    "        x = self.fc1(x)\n",
    "        return x\n",
    "\n",
    "\n",
    "net = CNN()\n",
    "summary(net, input_size=(64, 3, 40, 40))\n"
   ]
  },
  {
   "cell_type": "code",
   "execution_count": 6,
   "id": "a2a1e6d0-c863-4781-b136-109cf214fb16",
   "metadata": {
    "scrolled": true
   },
   "outputs": [
    {
     "name": "stdout",
     "output_type": "stream",
     "text": [
      "[Epoch  1]: train_loss = 1.7575, train_acc = 0.3955, validation_loss = 1.6531, validation_acc = 0.4237\n",
      "[Epoch  2]: train_loss = 1.4970, train_acc = 0.5052, validation_loss = 1.4044, validation_acc = 0.5263\n",
      "[Epoch  3]: train_loss = 1.3473, train_acc = 0.5515, validation_loss = 1.3249, validation_acc = 0.5774\n",
      "[Epoch  4]: train_loss = 1.2407, train_acc = 0.5892, validation_loss = 1.2012, validation_acc = 0.6095\n",
      "[Epoch  5]: train_loss = 1.1370, train_acc = 0.6204, validation_loss = 1.2210, validation_acc = 0.6089\n",
      "[Epoch  6]: train_loss = 1.0619, train_acc = 0.6488, validation_loss = 1.1087, validation_acc = 0.6442\n",
      "[Epoch  7]: train_loss = 1.0099, train_acc = 0.6630, validation_loss = 1.0100, validation_acc = 0.6524\n",
      "[Epoch  8]: train_loss = 0.9404, train_acc = 0.6932, validation_loss = 1.0270, validation_acc = 0.6605\n",
      "[Epoch  9]: train_loss = 0.8832, train_acc = 0.7057, validation_loss = 0.9609, validation_acc = 0.6757\n",
      "[Epoch 10]: train_loss = 0.8433, train_acc = 0.7189, validation_loss = 0.8979, validation_acc = 0.7002\n",
      "[Epoch 11]: train_loss = 0.7788, train_acc = 0.7470, validation_loss = 0.8564, validation_acc = 0.7148\n",
      "[Epoch 12]: train_loss = 0.7443, train_acc = 0.7515, validation_loss = 0.7638, validation_acc = 0.7409\n",
      "[Epoch 13]: train_loss = 0.7094, train_acc = 0.7653, validation_loss = 0.7434, validation_acc = 0.7643\n",
      "[Epoch 14]: train_loss = 0.6706, train_acc = 0.7839, validation_loss = 0.6746, validation_acc = 0.7827\n",
      "[Epoch 15]: train_loss = 0.6645, train_acc = 0.7842, validation_loss = 0.6966, validation_acc = 0.7719\n",
      "[Epoch 16]: train_loss = 0.6458, train_acc = 0.7857, validation_loss = 0.7052, validation_acc = 0.7708\n",
      "[Epoch 17]: train_loss = 0.6320, train_acc = 0.7964, validation_loss = 0.6193, validation_acc = 0.8017\n",
      "[Epoch 18]: train_loss = 0.6022, train_acc = 0.8036, validation_loss = 0.6580, validation_acc = 0.7762\n",
      "[Epoch 19]: train_loss = 0.5701, train_acc = 0.8164, validation_loss = 0.6176, validation_acc = 0.8066\n",
      "[Epoch 20]: train_loss = 0.5728, train_acc = 0.8119, validation_loss = 0.6493, validation_acc = 0.7811\n",
      "[Epoch 21]: train_loss = 0.5298, train_acc = 0.8315, validation_loss = 0.5740, validation_acc = 0.8072\n",
      "[Epoch 22]: train_loss = 0.5069, train_acc = 0.8369, validation_loss = 0.5881, validation_acc = 0.8050\n",
      "[Epoch 23]: train_loss = 0.5201, train_acc = 0.8300, validation_loss = 0.5199, validation_acc = 0.8251\n",
      "[Epoch 24]: train_loss = 0.4819, train_acc = 0.8479, validation_loss = 0.5422, validation_acc = 0.8126\n",
      "[Epoch 25]: train_loss = 0.4780, train_acc = 0.8517, validation_loss = 0.5144, validation_acc = 0.8398\n",
      "[Epoch 26]: train_loss = 0.4648, train_acc = 0.8497, validation_loss = 0.5134, validation_acc = 0.8273\n",
      "[Epoch 27]: train_loss = 0.4684, train_acc = 0.8507, validation_loss = 0.5396, validation_acc = 0.8278\n",
      "[Epoch 28]: train_loss = 0.4632, train_acc = 0.8536, validation_loss = 0.5276, validation_acc = 0.8311\n",
      "[Epoch 29]: train_loss = 0.4654, train_acc = 0.8507, validation_loss = 0.4516, validation_acc = 0.8604\n",
      "[Epoch 30]: train_loss = 0.4483, train_acc = 0.8563, validation_loss = 0.4831, validation_acc = 0.8501\n",
      "Training completed.\n"
     ]
    }
   ],
   "source": [
    "train_losses, val_losses, train_accuracies, val_accuracies = train(net, train_loader, val_loader, device, num_epochs = 30, lr = 0.001, weight_decay = 1e-4,step_size = 10, gamma = 0.8)"
   ]
  },
  {
   "cell_type": "code",
   "execution_count": 7,
   "id": "9fc89691-b2ae-4b44-9e9e-d4ff693d5514",
   "metadata": {},
   "outputs": [
    {
     "data": {
      "image/png": "[encoded data removed]",
      "text/plain": [
       "<Figure size 1400x600 with 2 Axes>"
      ]
     },
     "metadata": {},
     "output_type": "display_data"
    }
   ],
   "source": [
    "plot_training_results(train_losses, val_losses, train_accuracies, val_accuracies)"
   ]
  },
  {
   "cell_type": "code",
   "execution_count": 8,
   "id": "565d6c28-066b-4aa8-9b88-5eec279a16f7",
   "metadata": {},
   "outputs": [],
   "source": [
    "torch.save(net, 'model.pth')"
   ]
  },
  {
   "cell_type": "markdown",
   "id": "7ba9a6fd-e553-4ea1-8b82-fa9871e5c633",
   "metadata": {},
   "source": [
    "############################\n",
    "- Adapted from Practical_6\n",
    "############################"
   ]
  },
  {
   "cell_type": "code",
   "execution_count": 13,
   "id": "92485272-b7ed-4950-814d-4eda66dad1dd",
   "metadata": {},
   "outputs": [],
   "source": [
    "def evaluate(net, dataloader, device):\n",
    "    net.eval() \n",
    "    all_targets = []\n",
    "    all_predictions = []\n",
    "\n",
    "    with torch.no_grad(): \n",
    "        for inputs, targets in dataloader:\n",
    "            inputs = inputs.to(device)\n",
    "            targets = targets.to(device)\n",
    "\n",
    "            outputs = net(inputs)\n",
    "            _, predicted = torch.max(outputs, 1) \n",
    "            \n",
    "            all_targets.extend(targets.cpu().numpy())  \n",
    "            all_predictions.extend(predicted.cpu().numpy())\n",
    "\n",
    "    accuracy = np.mean(np.array(all_predictions) == np.array(all_targets))\n",
    "    print(f'Accuracy: {accuracy:.4f}')\n",
    "\n",
    "    precision = precision_score(all_targets, all_predictions, average='weighted')\n",
    "    recall = recall_score(all_targets, all_predictions, average='weighted')\n",
    "    f1 = f1_score(all_targets, all_predictions, average='weighted')\n",
    "\n",
    "    print(f'Precision: {precision:.4f}')\n",
    "    print(f'Recall: {recall:.4f}')\n",
    "    print(f'F1-Score: {f1:.4f}')\n",
    "\n",
    "    return accuracy, precision, recall, f1\n"
   ]
  },
  {
   "cell_type": "code",
   "execution_count": 14,
   "id": "57e6ddac-c386-40bf-8f3c-ec4b66aa3f54",
   "metadata": {},
   "outputs": [
    {
     "name": "stdout",
     "output_type": "stream",
     "text": [
      "Accuracy: 0.7795\n",
      "Precision: 0.7834\n",
      "Recall: 0.7795\n",
      "F1-Score: 0.7776\n"
     ]
    },
    {
     "ename": "IndexError",
     "evalue": "list index out of range",
     "output_type": "error",
     "traceback": [
      "\u001b[1;31m---------------------------------------------------------------------------\u001b[0m",
      "\u001b[1;31mIndexError\u001b[0m                                Traceback (most recent call last)",
      "Cell \u001b[1;32mIn[14], line 2\u001b[0m\n\u001b[0;32m      1\u001b[0m net \u001b[38;5;241m=\u001b[39m torch\u001b[38;5;241m.\u001b[39mload(\u001b[38;5;124m'\u001b[39m\u001b[38;5;124mmodel.pth\u001b[39m\u001b[38;5;124m'\u001b[39m)\n\u001b[1;32m----> 2\u001b[0m evaluate(net, test_loader, device)\n",
      "Cell \u001b[1;32mIn[13], line 36\u001b[0m, in \u001b[0;36mevaluate\u001b[1;34m(net, dataloader, device, num_samples)\u001b[0m\n\u001b[0;32m     34\u001b[0m \u001b[38;5;28;01mfor\u001b[39;00m i, idx \u001b[38;5;129;01min\u001b[39;00m \u001b[38;5;28menumerate\u001b[39m(sample_indices):\n\u001b[0;32m     35\u001b[0m     image_path, _ \u001b[38;5;241m=\u001b[39m all_images[idx]  \u001b[38;5;66;03m# Extract the image path\u001b[39;00m\n\u001b[1;32m---> 36\u001b[0m     pred_label \u001b[38;5;241m=\u001b[39m class_names[all_predictions[idx]]\n\u001b[0;32m     37\u001b[0m     true_label \u001b[38;5;241m=\u001b[39m class_names[all_targets[idx]]\n\u001b[0;32m     39\u001b[0m     \u001b[38;5;66;03m# Load image\u001b[39;00m\n",
      "\u001b[1;31mIndexError\u001b[0m: list index out of range"
     ]
    },
    {
     "data": {
      "text/plain": [
       "<Figure size 1500x1000 with 0 Axes>"
      ]
     },
     "metadata": {},
     "output_type": "display_data"
    }
   ],
   "source": [
    "net = torch.load('model.pth')\n",
    "evaluate(net, test_loader, device)"
   ]
  },
  {
   "cell_type": "markdown",
   "id": "1390e281-2d99-4d89-9db5-9484fe7ab4ab",
   "metadata": {},
   "source": [
    "############################\n",
    "- Coded by Webster Wang Wei Yang\n",
    "############################"
   ]
  },
  {
   "cell_type": "code",
   "execution_count": null,
   "id": "df7b6fc2-89f9-462d-b361-b07f088302cd",
   "metadata": {},
   "outputs": [],
   "source": [
    "def predict_image(image_path, model):\n",
    "    model.eval()\n",
    "    \n",
    "    device = next(model.parameters()).device\n",
    "    \n",
    "    image = Image.open(image_path)\n",
    "\n",
    "    predict_transform = transforms.Compose([\n",
    "    transforms.Resize((40, 40)),\n",
    "    transforms.ToTensor(),\n",
    "    transforms.Normalize(mean=[0.485, 0.456, 0.406], std=[0.229, 0.224, 0.225])\n",
    "    ])\n",
    "    \n",
    "    img = predict_transform(image)\n",
    "    \n",
    "    img = img.to(device)\n",
    "    \n",
    "    xb = img.unsqueeze(0)\n",
    "    \n",
    "    with torch.no_grad():\n",
    "        yb = model(xb)\n",
    "        \n",
    "    _, preds = torch.max(yb, dim=1)\n",
    "    \n",
    "    return preds.item()"
   ]
  },
  {
   "cell_type": "markdown",
   "id": "b2161005-ad7f-4981-910f-f9b38a352012",
   "metadata": {},
   "source": [
    "############################\n",
    "- Coded by Wong Wai Chun\n",
    "############################"
   ]
  },
  {
   "cell_type": "code",
   "execution_count": null,
   "id": "d172f0c7-46c8-4cab-a5f1-b58a3bbec26c",
   "metadata": {},
   "outputs": [],
   "source": [
    "def display_image_with_prediction(image_path, model):\n",
    "    pred_class_idx = predict_image(image_path, model)\n",
    "    \n",
    "    pred_class = class_names[pred_class_idx]\n",
    "    \n",
    "    image = Image.open(image_path)\n",
    "    plt.imshow(image)\n",
    "    pred_class_idx\n",
    "    plt.title(f\"Predicted class: {pred_class},  Predict label: {pred_class_idx}\")\n",
    "    plt.axis('off') \n",
    "    plt.show()\n",
    "\n",
    "image_path = data_dir + \"/predict/012.jpeg\" \n",
    "display_image_with_prediction(image_path, net)  "
   ]
  }
 ],
 "metadata": {
  "kernelspec": {
   "display_name": "Python 3 (ipykernel)",
   "language": "python",
   "name": "python3"
  },
  "language_info": {
   "codemirror_mode": {
    "name": "ipython",
    "version": 3
   },
   "file_extension": ".py",
   "mimetype": "text/x-python",
   "name": "python",
   "nbconvert_exporter": "python",
   "pygments_lexer": "ipython3",
   "version": "3.11.7"
  }
 },
 "nbformat": 4,
 "nbformat_minor": 5
}
